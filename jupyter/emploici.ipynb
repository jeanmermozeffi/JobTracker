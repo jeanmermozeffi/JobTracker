{
 "cells": [
  {
   "cell_type": "code",
   "id": "initial_id",
   "metadata": {
    "collapsed": true,
    "ExecuteTime": {
     "end_time": "2024-06-28T13:11:08.030419Z",
     "start_time": "2024-06-28T13:11:08.021839Z"
    }
   },
   "source": [
    "import requests\n",
    "\n",
    "from bs4 import BeautifulSoup\n",
    "\n",
    "from src.jobs import get_soup"
   ],
   "outputs": [],
   "execution_count": 2
  },
  {
   "metadata": {
    "ExecuteTime": {
     "end_time": "2024-06-28T13:11:32.727497Z",
     "start_time": "2024-06-28T13:11:32.723928Z"
    }
   },
   "cell_type": "code",
   "source": "url = 'https://www.emploi.ci/recherche-jobs-cote-ivoire'",
   "id": "70c5dbfd706f8adc",
   "outputs": [],
   "execution_count": 4
  },
  {
   "metadata": {
    "ExecuteTime": {
     "end_time": "2024-06-28T13:14:47.998478Z",
     "start_time": "2024-06-28T13:14:45.269174Z"
    }
   },
   "cell_type": "code",
   "source": "soup = get_soup(url)",
   "id": "4fe7e80dadde4ad1",
   "outputs": [
    {
     "name": "stdout",
     "output_type": "stream",
     "text": [
      "https://www.emploi.ci/recherche-jobs-cote-ivoire\n"
     ]
    }
   ],
   "execution_count": 12
  },
  {
   "metadata": {
    "ExecuteTime": {
     "end_time": "2024-06-28T13:17:03.738651Z",
     "start_time": "2024-06-28T13:17:03.722513Z"
    }
   },
   "cell_type": "code",
   "source": [
    "def extract_job_information(soup):\n",
    "    job_cards = soup.find_all('div', class_='card-job')\n",
    "\n",
    "    jobs = []\n",
    "\n",
    "    for card in job_cards:\n",
    "        job = {}\n",
    "\n",
    "        # Extracting job title\n",
    "        title_elem = card.find('h3')\n",
    "        job['title'] = title_elem.text.strip() if title_elem else None\n",
    "\n",
    "        # Extracting company name\n",
    "        company_elem = card.find('a', class_='card-job-company')\n",
    "        job['company'] = company_elem.text.strip() if company_elem else None\n",
    "\n",
    "        # Extracting job description\n",
    "        desc_elem = card.find('div', class_='card-job-description')\n",
    "        job['description'] = desc_elem.text.strip() if desc_elem else None\n",
    "\n",
    "        # Extracting job details like education, experience, contract type, region, etc.\n",
    "        details = card.find('ul').find_all('li') if card.find('ul') else []\n",
    "        job['education'] = details[0].text.strip() if len(details) > 0 else None\n",
    "        job['experience'] = details[1].text.strip() if len(details) > 1 else None\n",
    "        job['contract_type'] = details[2].text.strip() if len(details) > 2 else None\n",
    "        job['region'] = details[3].text.strip() if len(details) > 3 else None\n",
    "\n",
    "        # Extracting job posting date\n",
    "        time_elem = card.find('time')\n",
    "        job['posting_date'] = time_elem.text.strip() if time_elem else None\n",
    "\n",
    "        # Extracting job URL\n",
    "        job['url'] = card.get('data-href')\n",
    "\n",
    "        jobs.append(job)\n",
    "\n",
    "    return jobs\n"
   ],
   "id": "2027f3d2f4390505",
   "outputs": [],
   "execution_count": 14
  },
  {
   "metadata": {
    "ExecuteTime": {
     "end_time": "2024-06-28T13:17:06.461937Z",
     "start_time": "2024-06-28T13:17:06.448888Z"
    }
   },
   "cell_type": "code",
   "source": "extracted_jobs = extract_job_information(soup)",
   "id": "e8ee9ed9df0e464c",
   "outputs": [],
   "execution_count": 15
  },
  {
   "metadata": {
    "ExecuteTime": {
     "end_time": "2024-06-28T13:18:45.902409Z",
     "start_time": "2024-06-28T13:18:45.897469Z"
    }
   },
   "cell_type": "code",
   "source": "len(extracted_jobs)",
   "id": "9e432770cd9660d",
   "outputs": [
    {
     "data": {
      "text/plain": [
       "25"
      ]
     },
     "execution_count": 18,
     "metadata": {},
     "output_type": "execute_result"
    }
   ],
   "execution_count": 18
  },
  {
   "metadata": {
    "ExecuteTime": {
     "end_time": "2024-06-28T13:43:33.225193Z",
     "start_time": "2024-06-28T13:43:33.220952Z"
    }
   },
   "cell_type": "code",
   "source": [
    "def clean_job_details(jobs):\n",
    "    cleaned_jobs = []\n",
    "\n",
    "    for job in jobs:\n",
    "        cleaned_job = {}\n",
    "\n",
    "        for key, value in job.items():\n",
    "            if key == 'url':\n",
    "                cleaned_job[key] = value\n",
    "            else:\n",
    "                if ':' in value:\n",
    "                    cleaned_value = value.split(':', 1)[-1].strip()\n",
    "                else:\n",
    "                    cleaned_value = value.strip()\n",
    "\n",
    "                cleaned_job[key] = cleaned_value\n",
    "\n",
    "        cleaned_jobs.append(cleaned_job)\n",
    "\n",
    "    return cleaned_jobs"
   ],
   "id": "1c1470a8a32e9142",
   "outputs": [],
   "execution_count": 41
  },
  {
   "metadata": {
    "ExecuteTime": {
     "end_time": "2024-06-28T13:40:31.776166Z",
     "start_time": "2024-06-28T13:40:31.767117Z"
    }
   },
   "cell_type": "code",
   "source": "extracted_jobs[0]",
   "id": "3eb38fd1e4c33dfb",
   "outputs": [
    {
     "data": {
      "text/plain": [
       "{'title': 'Directeur Administratif et Financier Groupe - Abidjan',\n",
       " 'company': 'AFRICAWORK',\n",
       " 'description': 'RESPONSABILITÉS PRINCIPALES :   Le  Directeur Administratif et Financier  (DAF) est garant de la bonne gestion administrative et financière du Groupe. Il contrôle la bonne exécution de la stratégie et des procédures définies avec la direction générale et coordonne les services dont il a la charge.   Gestion administrative    Définir les principales orientations des systèmes de contrôle  \\xa0Mettre en place les procédures de gestion et les indicateurs nécessaires au suivi des activités et au reporting à la direction  Veiller au respect des procédures et des délais  Responsable du recrutement, de la gestion et de la performance du personnel financier dans toutes les filiales  Contribuer au perfectionnement professionnel du... \\n+plus',\n",
       " 'education': 'Niveau d´études requis : Bac+5 et plus',\n",
       " 'experience': \"Niveau d'expérience : Expérience > 10 ans\",\n",
       " 'contract_type': 'Contrat proposé\\n                             : CDI',\n",
       " 'region': 'Région de : Abidjan',\n",
       " 'posting_date': '27.06.2024',\n",
       " 'url': 'https://www.emploi.ci/offre-emploi-cote-ivoire/directeur-administratif-financier-groupe-abidjan-1441743'}"
      ]
     },
     "execution_count": 34,
     "metadata": {},
     "output_type": "execute_result"
    }
   ],
   "execution_count": 34
  },
  {
   "metadata": {
    "ExecuteTime": {
     "end_time": "2024-06-28T13:43:37.193333Z",
     "start_time": "2024-06-28T13:43:37.188109Z"
    }
   },
   "cell_type": "code",
   "source": [
    "cleaned_jobs = clean_job_details([extracted_jobs[0]])\n",
    "cleaned_jobs"
   ],
   "id": "20cca147884616c2",
   "outputs": [
    {
     "data": {
      "text/plain": [
       "[{'title': 'Directeur Administratif et Financier Groupe - Abidjan',\n",
       "  'company': 'AFRICAWORK',\n",
       "  'description': 'Le  Directeur Administratif et Financier  (DAF) est garant de la bonne gestion administrative et financière du Groupe. Il contrôle la bonne exécution de la stratégie et des procédures définies avec la direction générale et coordonne les services dont il a la charge.   Gestion administrative    Définir les principales orientations des systèmes de contrôle  \\xa0Mettre en place les procédures de gestion et les indicateurs nécessaires au suivi des activités et au reporting à la direction  Veiller au respect des procédures et des délais  Responsable du recrutement, de la gestion et de la performance du personnel financier dans toutes les filiales  Contribuer au perfectionnement professionnel du... \\n+plus',\n",
       "  'education': 'Bac+5 et plus',\n",
       "  'experience': 'Expérience > 10 ans',\n",
       "  'contract_type': 'CDI',\n",
       "  'region': 'Abidjan',\n",
       "  'posting_date': '27.06.2024',\n",
       "  'url': 'https://www.emploi.ci/offre-emploi-cote-ivoire/directeur-administratif-financier-groupe-abidjan-1441743'}]"
      ]
     },
     "execution_count": 42,
     "metadata": {},
     "output_type": "execute_result"
    }
   ],
   "execution_count": 42
  },
  {
   "metadata": {},
   "cell_type": "markdown",
   "source": "### Pagination",
   "id": "b8f3fdebdb96e6c1"
  },
  {
   "metadata": {
    "ExecuteTime": {
     "end_time": "2024-06-28T13:51:29.318063Z",
     "start_time": "2024-06-28T13:51:29.312438Z"
    }
   },
   "cell_type": "code",
   "source": [
    "def extract_pagination_links(soup):\n",
    "    pagination_div = soup.find('div', class_='pagination')\n",
    "\n",
    "    if pagination_div:\n",
    "        pagination_links = pagination_div.find_all('a')\n",
    "        page_links = {'https://www.emploi.ci' + link.get('href') for link in pagination_links}\n",
    "        return list(page_links)\n",
    "\n",
    "    return []"
   ],
   "id": "c569265deff3d8df",
   "outputs": [],
   "execution_count": 50
  },
  {
   "metadata": {
    "ExecuteTime": {
     "end_time": "2024-06-28T13:51:33.477239Z",
     "start_time": "2024-06-28T13:51:33.470256Z"
    }
   },
   "cell_type": "code",
   "source": [
    "pagination_links = extract_pagination_links(soup)\n",
    "pagination_links"
   ],
   "id": "a73f513bef50f79",
   "outputs": [
    {
     "data": {
      "text/plain": [
       "['https://www.emploi.ci/recherche-jobs-cote-ivoire?page=4',\n",
       " 'https://www.emploi.ci/recherche-jobs-cote-ivoire?page=2',\n",
       " 'https://www.emploi.ci/recherche-jobs-cote-ivoire?page=1']"
      ]
     },
     "execution_count": 51,
     "metadata": {},
     "output_type": "execute_result"
    }
   ],
   "execution_count": 51
  },
  {
   "metadata": {},
   "cell_type": "markdown",
   "source": "### Educarrie",
   "id": "346ca85e04893e41"
  },
  {
   "metadata": {
    "ExecuteTime": {
     "end_time": "2024-06-28T15:24:10.477206Z",
     "start_time": "2024-06-28T15:24:10.464895Z"
    }
   },
   "cell_type": "code",
   "source": [
    "def extract_job_data(soup):\n",
    "    job_data = []\n",
    "\n",
    "    job_cards = soup.find_all('div', class_='rt-post post-md style-8')\n",
    "\n",
    "    for card in job_cards:\n",
    "        job = {}\n",
    "\n",
    "        # Extracting the job URL\n",
    "        job['url'] = card.find('a', href=True)['href']\n",
    "        \n",
    "        # Extracting the job category\n",
    "        job['category'] = card.find('a', class_='racing').text.strip()\n",
    "\n",
    "        # Extracting the job title\n",
    "        job['title'] = card.find('h4', class_='post-title').text.strip()\n",
    "\n",
    "        # Extracting job code\n",
    "        job['code'] = card.find('span', style='color:#FF0000;font-size: 10px;').text.strip()\n",
    "\n",
    "        # Extracting dates\n",
    "        meta_items = card.find_all('li')\n",
    "        for item in meta_items:\n",
    "            if 'Date d\\'édition' in item.text:\n",
    "                job['date_edition'] = item.find('span', style='color:#FF0000;font-size: 10px;').text.strip()\n",
    "            if 'Date limite' in item.text:\n",
    "                job['date_limite'] = item.find('span', style='color:#FF0000;font-size: 10px;').text.strip()\n",
    "\n",
    "        job_data.append(job)\n",
    "\n",
    "    return job_data"
   ],
   "id": "485f6707ed2ace89",
   "outputs": [],
   "execution_count": 56
  },
  {
   "metadata": {
    "ExecuteTime": {
     "end_time": "2024-06-28T15:23:04.623544Z",
     "start_time": "2024-06-28T15:23:03.454920Z"
    }
   },
   "cell_type": "code",
   "source": [
    "url_educ = 'https://emploi.educarriere.ci/emploi/page/all'\n",
    "soup_edu = get_soup(url_educ)"
   ],
   "id": "ae974f1e9fceb83b",
   "outputs": [
    {
     "name": "stdout",
     "output_type": "stream",
     "text": [
      "https://emploi.educarriere.ci/emploi/page/all\n"
     ]
    }
   ],
   "execution_count": 52
  },
  {
   "metadata": {
    "ExecuteTime": {
     "end_time": "2024-06-28T15:24:15.629078Z",
     "start_time": "2024-06-28T15:24:15.609924Z"
    }
   },
   "cell_type": "code",
   "source": "jobs_edu = extract_job_data(soup_edu)",
   "id": "11cef464ad1a43ea",
   "outputs": [],
   "execution_count": 57
  },
  {
   "metadata": {
    "ExecuteTime": {
     "end_time": "2024-06-28T15:24:17.567140Z",
     "start_time": "2024-06-28T15:24:17.557840Z"
    }
   },
   "cell_type": "code",
   "source": "jobs_edu[0]",
   "id": "24f9094686feb738",
   "outputs": [
    {
     "data": {
      "text/plain": [
       "{'url': 'https://emploi.educarriere.ci/offre-119127-avis-de-recrutement-d-agents-de-securite.html',\n",
       " 'category': 'Emploi',\n",
       " 'title': 'AGENTS DE SECURITE',\n",
       " 'code': '114950',\n",
       " 'date_edition': '28/06/2024',\n",
       " 'date_limite': '28/07/2024'}"
      ]
     },
     "execution_count": 58,
     "metadata": {},
     "output_type": "execute_result"
    }
   ],
   "execution_count": 58
  },
  {
   "metadata": {},
   "cell_type": "markdown",
   "source": "### mhd",
   "id": "b25625e4e435890b"
  },
  {
   "metadata": {
    "ExecuteTime": {
     "end_time": "2024-06-28T15:34:52.168465Z",
     "start_time": "2024-06-28T15:34:52.163589Z"
    }
   },
   "cell_type": "code",
   "source": [
    "def extract_job_data_from_cards(soup):\n",
    "    job_data = []\n",
    "\n",
    "    job_cards = soup.find_all('div', class_='cat_div')\n",
    "\n",
    "    for card in job_cards:\n",
    "        job = {}\n",
    "\n",
    "        # Extracting the job URL\n",
    "        job['url'] = card.find('a', href=True)['href']\n",
    "\n",
    "        # Extracting the job title\n",
    "        job['title'] = card.find('a').text.strip()\n",
    "\n",
    "        # Extracting the seniority level\n",
    "        seniority = card.find('p', class_='text-muted mb-1 mt-1 small')\n",
    "        if seniority:\n",
    "            job['seniority'] = seniority.text.strip()\n",
    "\n",
    "        # Extracting the location\n",
    "        location = card.find('p', class_='text-muted small')\n",
    "        if location:\n",
    "            job['location'] = location.text.strip()\n",
    "\n",
    "        job_data.append(job)\n",
    "\n",
    "    return job_data"
   ],
   "id": "2accc6d45387d2d8",
   "outputs": [],
   "execution_count": 64
  },
  {
   "metadata": {
    "ExecuteTime": {
     "end_time": "2024-06-28T15:33:53.694219Z",
     "start_time": "2024-06-28T15:33:50.363895Z"
    }
   },
   "cell_type": "code",
   "source": [
    "url_mhd = 'https://mhd.hsd-melt.com/public/'\n",
    "soup_mhd = get_soup(url_mhd)"
   ],
   "id": "c1523b1c532cfa40",
   "outputs": [
    {
     "name": "stdout",
     "output_type": "stream",
     "text": [
      "https://mhd.hsd-melt.com/public/\n"
     ]
    }
   ],
   "execution_count": 60
  },
  {
   "metadata": {
    "ExecuteTime": {
     "end_time": "2024-06-28T15:34:17.226154Z",
     "start_time": "2024-06-28T15:34:17.174837Z"
    }
   },
   "cell_type": "code",
   "source": "jobs_mhd = extract_job_data_from_cards(soup_mhd)",
   "id": "1a31597461ec8fe2",
   "outputs": [],
   "execution_count": 62
  },
  {
   "metadata": {
    "ExecuteTime": {
     "end_time": "2024-06-28T15:34:55.277880Z",
     "start_time": "2024-06-28T15:34:55.269719Z"
    }
   },
   "cell_type": "code",
   "source": "jobs_mhd[0]",
   "id": "8ed81aebd5f6f339",
   "outputs": [
    {
     "data": {
      "text/plain": [
       "{'url': 'https://mhd.hsd-melt.com/public/public-search/1068',\n",
       " 'title': \"CHARGE D'AFFAIRES\",\n",
       " 'seniority': 'Niveau junior',\n",
       " 'location': 'Libreville, Libreville,Gabon',\n",
       " 'company_logo_url': 'https://mhd.hsd-melt.com/public/admin/images/logo/LOGO_HSD-Horizontale.png'}"
      ]
     },
     "execution_count": 65,
     "metadata": {},
     "output_type": "execute_result"
    }
   ],
   "execution_count": 65
  },
  {
   "metadata": {
    "ExecuteTime": {
     "end_time": "2024-06-28T15:28:38.464213Z",
     "start_time": "2024-06-28T15:28:38.461254Z"
    }
   },
   "cell_type": "code",
   "source": "",
   "id": "db77dc97112a8bc4",
   "outputs": [],
   "execution_count": 58
  },
  {
   "metadata": {},
   "cell_type": "code",
   "outputs": [],
   "execution_count": null,
   "source": "",
   "id": "6cd41f8dfca9b19e"
  }
 ],
 "metadata": {
  "kernelspec": {
   "display_name": "Python 3",
   "language": "python",
   "name": "python3"
  },
  "language_info": {
   "codemirror_mode": {
    "name": "ipython",
    "version": 2
   },
   "file_extension": ".py",
   "mimetype": "text/x-python",
   "name": "python",
   "nbconvert_exporter": "python",
   "pygments_lexer": "ipython2",
   "version": "2.7.6"
  }
 },
 "nbformat": 4,
 "nbformat_minor": 5
}
